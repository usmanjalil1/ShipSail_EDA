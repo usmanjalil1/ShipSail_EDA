{
 "cells": [
  {
   "cell_type": "markdown",
   "metadata": {},
   "source": [
    "### Importing Libraries"
   ]
  },
  {
   "cell_type": "code",
   "execution_count": 67,
   "metadata": {},
   "outputs": [],
   "source": [
    "import pandas as pd\n",
    "import numpy as np\n",
    "import sqlite3\n",
    "import matplotlib.pyplot as plt\n",
    "import seaborn as sns"
   ]
  },
  {
   "cell_type": "markdown",
   "metadata": {},
   "source": [
    "### Reading Dataset"
   ]
  },
  {
   "cell_type": "code",
   "execution_count": 68,
   "metadata": {},
   "outputs": [],
   "source": [
    "import sqlite3\n",
    "import pandas as pd\n",
    "\n",
    "conn1 = sqlite3.connect('Data/cruise_pre.db')\n",
    "df1 = pd.read_sql_query(\"SELECT * FROM cruise_pre\", conn1)  \n",
    "conn1.close()\n",
    "\n",
    "conn2 = sqlite3.connect('Data/cruise_post.db')\n",
    "df2 = pd.read_sql_query(\"SELECT * FROM cruise_post\", conn2)  \n",
    "conn2.close()\n"
   ]
  },
  {
   "cell_type": "markdown",
   "metadata": {},
   "source": [
    "### Data Cleaning for EDA"
   ]
  },
  {
   "cell_type": "code",
   "execution_count": 69,
   "metadata": {},
   "outputs": [],
   "source": [
    "# Combining Both Datasets Because Both have same rows\n",
    "combined_df = pd.concat([df1, df2], axis = 1)\n",
    "combined_df = combined_df.drop(['index', 'index'], axis = 1)"
   ]
  },
  {
   "cell_type": "code",
   "execution_count": 70,
   "metadata": {},
   "outputs": [],
   "source": [
    "# Saving CSV for future Use\n",
    "combined_df.to_csv('Data/ShipSail_Pandas.csv', index=False)"
   ]
  },
  {
   "cell_type": "code",
   "execution_count": 71,
   "metadata": {},
   "outputs": [
    {
     "data": {
      "text/plain": [
       "Gender                                        13456\n",
       "Date of Birth                                 14684\n",
       "Source of Traffic                                 0\n",
       "Onboard Wifi Service                          19492\n",
       "Embarkation/Disembarkation time convenient    15643\n",
       "Ease of Online booking                        18355\n",
       "Gate location                                 17140\n",
       "Logging                                           0\n",
       "Onboard Dining Service                        16809\n",
       "Online Check-in                               15687\n",
       "Cabin Comfort                                 20252\n",
       "Onboard Entertainment                         15913\n",
       "Cabin service                                 13832\n",
       "Baggage handling                              20293\n",
       "Port Check-in Service                         14347\n",
       "Onboard Service                               18327\n",
       "Cleanliness                                   18402\n",
       "Ext_Intcode                                       0\n",
       "Cruise Name                                   15931\n",
       "Ticket Type                                   20061\n",
       "Cruise Distance                               14486\n",
       "Ext_Intcode                                       0\n",
       "WiFi                                          69734\n",
       "Dining                                            0\n",
       "Entertainment                                 60057\n",
       "dtype: int64"
      ]
     },
     "execution_count": 71,
     "metadata": {},
     "output_type": "execute_result"
    }
   ],
   "source": [
    "# Checking Null values\n",
    "combined_df.isnull().sum()"
   ]
  },
  {
   "cell_type": "code",
   "execution_count": 72,
   "metadata": {},
   "outputs": [],
   "source": [
    "# Dropping Useless Columns\n",
    "combined_df = combined_df.drop(['Ext_Intcode', 'Ext_Intcode', 'Ext_Intcode', 'Ext_Intcode'], axis = 1)"
   ]
  },
  {
   "cell_type": "code",
   "execution_count": 73,
   "metadata": {},
   "outputs": [],
   "source": [
    "# Parsing Distance Column\n",
    "import re\n",
    "def clean_cruise_distance(distance):\n",
    "    if isinstance(distance, str):\n",
    "        numeric_value = re.search(r'\\d+', distance)\n",
    "        if numeric_value:\n",
    "            return float(numeric_value.group())\n",
    "    return None\n",
    "combined_df['Cruise Distance'] = combined_df['Cruise Distance'].apply(clean_cruise_distance)\n",
    "combined_df['Cruise Distance'] = combined_df['Cruise Distance'].abs()\n"
   ]
  },
  {
   "cell_type": "code",
   "execution_count": 74,
   "metadata": {},
   "outputs": [],
   "source": [
    "# Separating Object and Int64/float64 Columns\n",
    "Num_cols = list(combined_df.select_dtypes(['int64', 'float64']).columns)"
   ]
  },
  {
   "cell_type": "code",
   "execution_count": 75,
   "metadata": {},
   "outputs": [
    {
     "data": {
      "text/plain": [
       "Gender                                        0\n",
       "Date of Birth                                 0\n",
       "Source of Traffic                             0\n",
       "Onboard Wifi Service                          0\n",
       "Embarkation/Disembarkation time convenient    0\n",
       "Ease of Online booking                        0\n",
       "Gate location                                 0\n",
       "Logging                                       0\n",
       "Onboard Dining Service                        0\n",
       "Online Check-in                               0\n",
       "Cabin Comfort                                 0\n",
       "Onboard Entertainment                         0\n",
       "Cabin service                                 0\n",
       "Baggage handling                              0\n",
       "Port Check-in Service                         0\n",
       "Onboard Service                               0\n",
       "Cleanliness                                   0\n",
       "Cruise Name                                   0\n",
       "Ticket Type                                   0\n",
       "Cruise Distance                               0\n",
       "WiFi                                          0\n",
       "Dining                                        0\n",
       "Entertainment                                 0\n",
       "dtype: int64"
      ]
     },
     "execution_count": 75,
     "metadata": {},
     "output_type": "execute_result"
    }
   ],
   "source": [
    "# Null Values Imputation\n",
    "def impute_null_with_mean(df, columns):\n",
    "    for column in columns:\n",
    "        mean_value = df[column].mean()\n",
    "        df[column].fillna(mean_value, inplace=True)\n",
    "\n",
    "def impute_null_with_mode(df):\n",
    "    for column in df.select_dtypes(include=['object']):\n",
    "        mode_value = df[column].mode()[0]\n",
    "        df[column].fillna(mode_value, inplace=True)\n",
    "\n",
    "impute_null_with_mode(combined_df)\n",
    "impute_null_with_mean(combined_df, Num_cols)\n",
    "\n",
    "combined_df.isnull().sum()\n"
   ]
  },
  {
   "cell_type": "markdown",
   "metadata": {},
   "source": [
    "### Exploratory Data Analysis"
   ]
  },
  {
   "cell_type": "code",
   "execution_count": null,
   "metadata": {},
   "outputs": [],
   "source": []
  }
 ],
 "metadata": {
  "kernelspec": {
   "display_name": "tf",
   "language": "python",
   "name": "python3"
  },
  "language_info": {
   "codemirror_mode": {
    "name": "ipython",
    "version": 3
   },
   "file_extension": ".py",
   "mimetype": "text/x-python",
   "name": "python",
   "nbconvert_exporter": "python",
   "pygments_lexer": "ipython3",
   "version": "3.9.18"
  }
 },
 "nbformat": 4,
 "nbformat_minor": 2
}
